{
  "nbformat": 4,
  "nbformat_minor": 0,
  "metadata": {
    "colab": {
      "provenance": [],
      "include_colab_link": true
    },
    "kernelspec": {
      "display_name": "Python 3",
      "name": "python3"
    },
    "language_info": {
      "name": "python"
    },
    "accelerator": "GPU"
  },
  "cells": [
    {
      "cell_type": "markdown",
      "metadata": {
        "id": "view-in-github",
        "colab_type": "text"
      },
      "source": [
        "<a href=\"https://colab.research.google.com/github/SudilHasitha/LISA_CNN_ExplainerV3/blob/master/it18059564_Fine_tuning_covid_model.ipynb\" target=\"_parent\"><img src=\"https://colab.research.google.com/assets/colab-badge.svg\" alt=\"Open In Colab\"/></a>"
      ]
    },
    {
      "cell_type": "code",
      "metadata": {
        "colab": {
          "base_uri": "https://localhost:8080/"
        },
        "id": "stE5GmS6m8vf",
        "outputId": "78c8ff38-c22f-47eb-8c0e-d71a829209b7"
      },
      "source": [
        "from google.colab import drive\n",
        "drive.mount('/content/drive')"
      ],
      "execution_count": null,
      "outputs": [
        {
          "output_type": "stream",
          "text": [
            "Mounted at /content/drive\n"
          ],
          "name": "stdout"
        }
      ]
    },
    {
      "cell_type": "code",
      "metadata": {
        "id": "yzHP2T_i9C0Z"
      },
      "source": [
        "import os\n",
        "os.environ['KAGGLE_CONFIG_DIR'] = '/content/drive/MyDrive/Research'"
      ],
      "execution_count": null,
      "outputs": []
    },
    {
      "cell_type": "code",
      "metadata": {
        "colab": {
          "base_uri": "https://localhost:8080/"
        },
        "id": "vANii_ZHAKz6",
        "outputId": "009b3195-af73-4029-c760-3188b0eec31e"
      },
      "source": [
        "%cd '/content/drive/MyDrive/Research/'"
      ],
      "execution_count": null,
      "outputs": [
        {
          "output_type": "stream",
          "text": [
            "/content/drive/MyDrive/Research\n"
          ],
          "name": "stdout"
        }
      ]
    },
    {
      "cell_type": "code",
      "metadata": {
        "id": "4ZpiBJ93E3og"
      },
      "source": [
        "# plot validation and training curves seperately\n",
        "def plot_loss_curves(history):\n",
        "  ''' returns curves for loss associated with the training and validation phase'''\n",
        "  loss = history.history[\"loss\"]\n",
        "  val_loss = history.history[\"val_loss\"]\n",
        "\n",
        "  accuracy = history.history[\"accuracy\"]\n",
        "  val_accuracy = history.history[\"val_accuracy\"]\n",
        "\n",
        "  epochs = range(len(history.history[\"loss\"]))\n",
        "\n",
        "  # Plot loss\n",
        "  plt.figure(figsize=(10,8)) \n",
        "  plt.subplot(1,2,1)\n",
        "  \n",
        "  plt.plot(epochs,loss,label=\"training loss\")\n",
        "  plt.plot(epochs,val_loss,label=\"val_loss\")\n",
        "  plt.title(\"Loss\")\n",
        "  plt.xlabel(\"Epochs\")\n",
        "  plt.legend()\n",
        "\n",
        "  # Plot accuracy\n",
        "\n",
        "  plt.plot(epochs,accuracy,label=\"training accuracy\")\n",
        "  plt.plot(epochs,val_accuracy,label=\"val_accuracy\")\n",
        "  plt.title(\"Accuracy\")\n",
        "  plt.xlabel(\"Epochs\")\n",
        "  plt.legend()"
      ],
      "execution_count": null,
      "outputs": []
    },
    {
      "cell_type": "code",
      "metadata": {
        "id": "v96mnT8rAOlC"
      },
      "source": [
        "import pandas as pd\n",
        "import matplotlib.pyplot as plt\n",
        "from tensorflow.keras.preprocessing.image import ImageDataGenerator\n",
        "from sklearn.model_selection import train_test_split\n",
        "import tensorflow as tf\n",
        "import numpy as np"
      ],
      "execution_count": null,
      "outputs": []
    },
    {
      "cell_type": "code",
      "metadata": {
        "id": "2wFufxPmn4WT"
      },
      "source": [
        "from tensorflow.keras.layers.experimental import preprocessing"
      ],
      "execution_count": null,
      "outputs": []
    },
    {
      "cell_type": "code",
      "metadata": {
        "id": "wQGwEJrNYOOD"
      },
      "source": [],
      "execution_count": null,
      "outputs": []
    },
    {
      "cell_type": "code",
      "metadata": {
        "id": "0H1k5wr-GgEJ"
      },
      "source": [
        "# create a tensorboard callback\n",
        "import datetime\n",
        "\n",
        "def create_tensorboard_callback(dir_name,experiment_name):\n",
        "  log_dir = dir_name + \"/\" + experiment_name + \"/\" + datetime.datetime.now().strftime(\"%Y%m%d-%H%M%S\")\n",
        "  tensorboard_callback = tf.keras.callbacks.TensorBoard(log_dir=log_dir)\n",
        "  print(f\"Saving tensorboard log files to {log_dir}\")\n",
        "  return tensorboard_callback\n",
        "  "
      ],
      "execution_count": null,
      "outputs": []
    },
    {
      "cell_type": "code",
      "metadata": {
        "id": "NC5hovs_20pr"
      },
      "source": [
        "checkpoint_path = \"/content/drive/MyDrive/Research/model_2_check_weights_check/checkpoint.ckpt\""
      ],
      "execution_count": null,
      "outputs": []
    },
    {
      "cell_type": "code",
      "metadata": {
        "id": "Gy0YWT_53OGU"
      },
      "source": [
        "checkpoint_callback = tf.keras.callbacks.ModelCheckpoint(filepath=checkpoint_path,\n",
        "                                                         save_weights_only=True,\n",
        "                                                         save_best_only=True,\n",
        "                                                         monitor=\"val_accuracy\")"
      ],
      "execution_count": null,
      "outputs": []
    },
    {
      "cell_type": "code",
      "metadata": {
        "id": "Dpv8x7SAQMDL"
      },
      "source": [
        "# Import dependencies\n",
        "import  tensorflow_hub as hub\n",
        "from tensorflow.keras import layers"
      ],
      "execution_count": null,
      "outputs": []
    },
    {
      "cell_type": "code",
      "metadata": {
        "colab": {
          "base_uri": "https://localhost:8080/"
        },
        "id": "h3VcVfpft62Z",
        "outputId": "86305623-ca81-4321-c1ab-e8656c349280"
      },
      "source": [
        "train_dir = \"/content/drive/MyDrive/Research/training/train\"\n",
        "test_dir = \"/content/drive/MyDrive/Research/testing/test\"\n",
        "valid_dir = \"/content/drive/MyDrive/Research/validating/train\"\n",
        "IMG_SIZE = (224,224)\n",
        "train_data = tf.keras.preprocessing.image_dataset_from_directory(directory=train_dir,\n",
        "                                                                  labels=\"inferred\",\n",
        "                                                                  label_mode='categorical',\n",
        "                                                                  batch_size=32, \n",
        "                                                                  image_size=IMG_SIZE,\n",
        "                                                                 crop_to_aspect_ratio=True)\n",
        "\n",
        "test_data = tf.keras.preprocessing.image_dataset_from_directory(directory=test_dir,\n",
        "                                                                labels=\"inferred\",\n",
        "                                                                label_mode='categorical',\n",
        "                                                                batch_size=32, \n",
        "                                                                image_size=IMG_SIZE,\n",
        "                                                                crop_to_aspect_ratio=True)\n",
        "\n",
        "valid_data = tf.keras.preprocessing.image_dataset_from_directory(directory=valid_dir,\n",
        "                                                                labels=\"inferred\",\n",
        "                                                                label_mode='categorical',\n",
        "                                                                batch_size=32, \n",
        "                                                                image_size=IMG_SIZE,\n",
        "                                                                crop_to_aspect_ratio=True)"
      ],
      "execution_count": null,
      "outputs": [
        {
          "output_type": "stream",
          "text": [
            "Found 3500 files belonging to 2 classes.\n",
            "Found 400 files belonging to 2 classes.\n",
            "Found 390 files belonging to 2 classes.\n"
          ],
          "name": "stdout"
        }
      ]
    },
    {
      "cell_type": "code",
      "metadata": {
        "id": "VnL07Dhzm9yI"
      },
      "source": [
        "data_augmentation = tf.keras.Sequential([\n",
        "                                         preprocessing.RandomFlip('horizontal'),\n",
        "                                         preprocessing.RandomHeight(0.2),\n",
        "                                         preprocessing.RandomWidth(0.2),\n",
        "                                         preprocessing.RandomZoom(0.2),\n",
        "                                         preprocessing.RandomRotation(0.2)\n",
        "],name=\"data_augmentation_layer\")"
      ],
      "execution_count": null,
      "outputs": []
    },
    {
      "cell_type": "code",
      "metadata": {
        "id": "DCNMccFFYmF9"
      },
      "source": [],
      "execution_count": null,
      "outputs": []
    },
    {
      "cell_type": "code",
      "metadata": {
        "colab": {
          "base_uri": "https://localhost:8080/"
        },
        "id": "q8jaYt5zAeyc",
        "outputId": "a66b9c8f-ffba-4eb4-d317-a9ff758db36a"
      },
      "source": [
        "# 1. Create base model with tf.keras.application\n",
        "base_model = tf.keras.applications.EfficientNetB7(include_top=False)\n",
        "\n",
        "# 2. Freeze the base model\n",
        "base_model.trainable = True\n",
        "\n",
        "# freeze all layers except last 20\n",
        "for layer in base_model.layers[:-35]:\n",
        "  layer.trainable = False\n",
        "\n",
        "# 3. Creates inputs into model\n",
        "inputs = tf.keras.Input(shape=(224,224,3), name=\"input_layer\")\n",
        "\n",
        "# Some models need to perform rescaling can prform here except in generator\n",
        "# x = tf.keras.layers.experimental.preprocessing.Rescaling(1./255)(inputs)\n",
        "x = data_augmentation(inputs)\n",
        "\n",
        "# 4. Pass the inputs to the base model after augmented and don't train\n",
        "x = base_model(x,training=False) # avoid training batch normalization layers\n",
        "print(f\"shape after passing through base model: {x.shape}\")\n",
        "\n",
        "# 5. Average pool the outputs of the base model (aggregate all important information, reduce no of computations) # create feature vector\n",
        "x = tf.keras.layers.GlobalAveragePooling2D(name=\"global_average_pooling_layer\")(x)\n",
        "print(f\"shape after passing through global avg pooling: {x.shape}\")\n",
        "\n",
        "# 6.create the output layer\n",
        "outputs = tf.keras.layers.Dense(2,activation=\"sigmoid\",name=\"output_layer\")(x)\n",
        "\n",
        "# 7. Assemble the model\n",
        "model_3 = tf.keras.Model(inputs,outputs)\n",
        "\n",
        "# 8. Compile the model\n",
        "model_3.compile(loss=\"binary_crossentropy\",\n",
        "                     optimizer=tf.keras.optimizers.Adam(lr=0.0001),# when fine tuning lower th lr by X10\n",
        "                     metrics=[\"accuracy\"])\n",
        "\n",
        "# 9. Fit the model and save the history\n",
        "# initial_epoch = history_previous_model.epoch[-1] start from the last epoch\n",
        "model_3_history = model_3.fit(train_data,\n",
        "                              epochs=20,\n",
        "                              steps_per_epoch=len(train_data),\n",
        "                              validation_data=valid_data,\n",
        "                              validation_steps=len(valid_data),\n",
        "                              callbacks=[create_tensorboard_callback(dir_name=\"tranfer_learning\",\n",
        "                                                                    experiment_name=\"EfficientNet_B7_Functional_API_Baseline\"),\n",
        "                                                                    checkpoint_callback] )"
      ],
      "execution_count": null,
      "outputs": [
        {
          "output_type": "stream",
          "text": [
            "Downloading data from https://storage.googleapis.com/keras-applications/efficientnetb7_notop.h5\n",
            "258080768/258076736 [==============================] - 10s 0us/step\n",
            "258088960/258076736 [==============================] - 10s 0us/step\n",
            "shape after passing through base model: (None, None, None, 2560)\n",
            "shape after passing through global avg pooling: (None, 2560)\n"
          ],
          "name": "stdout"
        },
        {
          "output_type": "stream",
          "text": [
            "/usr/local/lib/python3.7/dist-packages/keras/optimizer_v2/optimizer_v2.py:356: UserWarning: The `lr` argument is deprecated, use `learning_rate` instead.\n",
            "  \"The `lr` argument is deprecated, use `learning_rate` instead.\")\n"
          ],
          "name": "stderr"
        },
        {
          "output_type": "stream",
          "text": [
            "Saving tensorboard log files to tranfer_learning/EfficientNet_B7_Functional_API_Baseline/20210824-234721\n"
          ],
          "name": "stdout"
        },
        {
          "output_type": "stream",
          "text": [
            "/usr/local/lib/python3.7/dist-packages/keras/utils/generic_utils.py:497: CustomMaskWarning: Custom mask layers require a config and must override get_config. When loading, the custom mask layer must be passed to the custom_objects argument.\n",
            "  category=CustomMaskWarning)\n"
          ],
          "name": "stderr"
        },
        {
          "output_type": "stream",
          "text": [
            "Epoch 1/20\n",
            "110/110 [==============================] - 2214s 18s/step - loss: 0.4153 - accuracy: 0.8063 - val_loss: 0.3128 - val_accuracy: 0.8462\n",
            "Epoch 2/20\n",
            "110/110 [==============================] - 233s 2s/step - loss: 0.2948 - accuracy: 0.8769 - val_loss: 0.2423 - val_accuracy: 0.9051\n",
            "Epoch 3/20\n",
            "110/110 [==============================] - 231s 2s/step - loss: 0.2709 - accuracy: 0.8889 - val_loss: 0.2710 - val_accuracy: 0.8769\n",
            "Epoch 4/20\n",
            "110/110 [==============================] - 230s 2s/step - loss: 0.2453 - accuracy: 0.8971 - val_loss: 0.2736 - val_accuracy: 0.8846\n",
            "Epoch 5/20\n",
            "110/110 [==============================] - 231s 2s/step - loss: 0.2267 - accuracy: 0.9094 - val_loss: 0.1859 - val_accuracy: 0.9282\n",
            "Epoch 6/20\n",
            "110/110 [==============================] - 229s 2s/step - loss: 0.1995 - accuracy: 0.9249 - val_loss: 0.2375 - val_accuracy: 0.9026\n",
            "Epoch 7/20\n",
            "110/110 [==============================] - 225s 2s/step - loss: 0.1942 - accuracy: 0.9209 - val_loss: 0.2526 - val_accuracy: 0.9026\n",
            "Epoch 8/20\n",
            "110/110 [==============================] - 227s 2s/step - loss: 0.1861 - accuracy: 0.9246 - val_loss: 0.2463 - val_accuracy: 0.9231\n",
            "Epoch 9/20\n",
            "110/110 [==============================] - 224s 2s/step - loss: 0.1827 - accuracy: 0.9274 - val_loss: 0.1741 - val_accuracy: 0.9410\n",
            "Epoch 10/20\n",
            "110/110 [==============================] - 226s 2s/step - loss: 0.1736 - accuracy: 0.9337 - val_loss: 0.3213 - val_accuracy: 0.8744\n",
            "Epoch 11/20\n",
            "110/110 [==============================] - 227s 2s/step - loss: 0.1586 - accuracy: 0.9331 - val_loss: 0.2840 - val_accuracy: 0.9051\n",
            "Epoch 12/20\n",
            "110/110 [==============================] - 244s 2s/step - loss: 0.1657 - accuracy: 0.9357 - val_loss: 0.2872 - val_accuracy: 0.8974\n",
            "Epoch 13/20\n",
            "110/110 [==============================] - 223s 2s/step - loss: 0.1468 - accuracy: 0.9423 - val_loss: 0.2182 - val_accuracy: 0.9128\n",
            "Epoch 14/20\n",
            "110/110 [==============================] - 220s 2s/step - loss: 0.1349 - accuracy: 0.9437 - val_loss: 0.1786 - val_accuracy: 0.9385\n",
            "Epoch 15/20\n",
            "110/110 [==============================] - 221s 2s/step - loss: 0.1305 - accuracy: 0.9517 - val_loss: 0.2301 - val_accuracy: 0.9128\n",
            "Epoch 16/20\n",
            "110/110 [==============================] - 220s 2s/step - loss: 0.1483 - accuracy: 0.9440 - val_loss: 0.2663 - val_accuracy: 0.9026\n",
            "Epoch 17/20\n",
            "110/110 [==============================] - 218s 2s/step - loss: 0.1270 - accuracy: 0.9529 - val_loss: 0.2631 - val_accuracy: 0.9179\n",
            "Epoch 18/20\n",
            "110/110 [==============================] - 219s 2s/step - loss: 0.1344 - accuracy: 0.9477 - val_loss: 0.2342 - val_accuracy: 0.9128\n",
            "Epoch 19/20\n",
            "110/110 [==============================] - 225s 2s/step - loss: 0.1150 - accuracy: 0.9574 - val_loss: 0.2109 - val_accuracy: 0.9256\n",
            "Epoch 20/20\n",
            "110/110 [==============================] - 219s 2s/step - loss: 0.1167 - accuracy: 0.9554 - val_loss: 0.2213 - val_accuracy: 0.9205\n"
          ],
          "name": "stdout"
        }
      ]
    },
    {
      "cell_type": "code",
      "metadata": {
        "id": "H2PkrBsB5xj5",
        "colab": {
          "base_uri": "https://localhost:8080/"
        },
        "outputId": "929725e0-d966-4ba7-bbcd-3139884a3545"
      },
      "source": [
        "plot_loss_curves(model_3_history)"
      ],
      "execution_count": null,
      "outputs": [
        {
          "output_type": "display_data",
          "data": {
            "image/png": "[encoded data removed]",
            "text/plain": [
              "<Figure size 720x576 with 1 Axes>"
            ]
          },
          "metadata": {
            "needs_background": "light"
          }
        }
      ]
    },
    {
      "cell_type": "code",
      "metadata": {
        "id": "1y5_LZKIxibe",
        "colab": {
          "base_uri": "https://localhost:8080/"
        },
        "outputId": "9cea28e0-1619-4ed0-d038-f9d5ce8c8827"
      },
      "source": [
        "# Evaluating the model\n",
        "results_model_3 = model_3.evaluate(test_data)\n",
        "results_model_3"
      ],
      "execution_count": null,
      "outputs": [
        {
          "output_type": "stream",
          "text": [
            "13/13 [==============================] - 250s 6s/step - loss: 0.3009 - accuracy: 0.8950\n"
          ],
          "name": "stdout"
        },
        {
          "output_type": "execute_result",
          "data": {
            "text/plain": [
              "[0.3009320795536041, 0.8949999809265137]"
            ]
          },
          "metadata": {},
          "execution_count": 15
        }
      ]
    },
    {
      "cell_type": "code",
      "metadata": {
        "id": "jTK0rrJWZUbF"
      },
      "source": [],
      "execution_count": null,
      "outputs": []
    },
    {
      "cell_type": "code",
      "metadata": {
        "colab": {
          "base_uri": "https://localhost:8080/"
        },
        "id": "5rHLtMpnv9JX",
        "outputId": "35189bb2-3ae5-41bd-cc04-d066b376630b"
      },
      "source": [
        "!tensorboard dev upload --logdir ./tensorflow_hub/ \\\n",
        "    --name \"inception V2 vs EfficientNet B7\" \\\n",
        "    --description \"Compare models\" \\\n",
        "    --one_shot"
      ],
      "execution_count": null,
      "outputs": [
        {
          "name": "stdout",
          "output_type": "stream",
          "text": [
            "2021-06-29 15:45:37.510478: I tensorflow/stream_executor/platform/default/dso_loader.cc:53] Successfully opened dynamic library libcudart.so.11.0\n",
            "\n",
            "***** TensorBoard Uploader *****\n",
            "\n",
            "This will upload your TensorBoard logs to https://tensorboard.dev/ from\n",
            "the following directory:\n",
            "\n",
            "./tensorflow_hub/\n",
            "\n",
            "This TensorBoard will be visible to everyone. Do not upload sensitive\n",
            "data.\n",
            "\n",
            "Your use of this service is subject to Google's Terms of Service\n",
            "<https://policies.google.com/terms> and Privacy Policy\n",
            "<https://policies.google.com/privacy>, and TensorBoard.dev's Terms of Service\n",
            "<https://tensorboard.dev/policy/terms/>.\n",
            "\n",
            "This notice will not be shown again while you are logged into the uploader.\n",
            "To log out, run `tensorboard dev auth revoke`.\n",
            "\n",
            "Continue? (yes/NO) yes\n",
            "\n",
            "Please visit this URL to authorize this application: https://accounts.google.com/o/oauth2/auth?response_type=code&client_id=373649185512-8v619h5kft38l4456nm2dj4ubeqsrvh6.apps.googleusercontent.com&redirect_uri=urn%3Aietf%3Awg%3Aoauth%3A2.0%3Aoob&scope=openid+https%3A%2F%2Fwww.googleapis.com%2Fauth%2Fuserinfo.email&state=l2CRh4bI8ozP7bAJ352pIgRltQLEFt&prompt=consent&access_type=offline\n",
            "Enter the authorization code: 4/1AX4XfWjuTEaDR7NXLiCdpw5J7wpPSap1rzmCXMeSZlvOCbba_QdlAeaWb_s\n",
            "\n",
            "Data for the \"text\" plugin is now uploaded to TensorBoard.dev! Note that uploaded data is public. If you do not want to upload data for this plugin, use the \"--plugins\" command line argument.\n",
            "\n",
            "New experiment created. View your TensorBoard at: https://tensorboard.dev/experiment/ni4ziMWrQ52fG4XV2evDsw/\n",
            "\n",
            "\u001b[1m[2021-06-29T15:46:32]\u001b[0m Started scanning logdir.\n",
            "\u001b[1m[2021-06-29T15:46:35]\u001b[0m Total uploaded: 360 scalars, 0 tensors, 3 binary objects (12.4 MB)\n",
            "\u001b[1m[2021-06-29T15:46:35]\u001b[0m Done scanning logdir.\n",
            "\n",
            "\n",
            "Done. View your TensorBoard at https://tensorboard.dev/experiment/ni4ziMWrQ52fG4XV2evDsw/\n"
          ]
        }
      ]
    },
    {
      "cell_type": "code",
      "metadata": {
        "id": "rS6qvSNxZtXl"
      },
      "source": [
        "# check the experiments available\n",
        "!tensorboard dev list"
      ],
      "execution_count": null,
      "outputs": []
    },
    {
      "cell_type": "code",
      "metadata": {
        "id": "R16zLfAFwrGG"
      },
      "source": [
        "# delete the available experiments\n",
        "# !tensorboard dev delete --experiment_id <id>"
      ],
      "execution_count": null,
      "outputs": []
    },
    {
      "cell_type": "code",
      "metadata": {
        "id": "jHLkjE59ZuaX"
      },
      "source": [],
      "execution_count": null,
      "outputs": []
    },
    {
      "cell_type": "code",
      "metadata": {
        "colab": {
          "base_uri": "https://localhost:8080/"
        },
        "id": "BIelCYmsFrj3",
        "outputId": "1010f2d2-3fe3-449a-f83d-dba1b0a3116b"
      },
      "source": [
        "model_3.save(\"save_model_3\")"
      ],
      "execution_count": null,
      "outputs": [
        {
          "name": "stderr",
          "output_type": "stream",
          "text": [
            "/usr/local/lib/python3.7/dist-packages/tensorflow/python/keras/utils/generic_utils.py:497: CustomMaskWarning: Custom mask layers require a config and must override get_config. When loading, the custom mask layer must be passed to the custom_objects argument.\n",
            "  category=CustomMaskWarning)\n"
          ]
        },
        {
          "name": "stdout",
          "output_type": "stream",
          "text": [
            "INFO:tensorflow:Assets written to: save_model_3/assets\n"
          ]
        }
      ]
    },
    {
      "cell_type": "code",
      "metadata": {
        "id": "3NuB_VKOFxrP"
      },
      "source": [
        "# loaded_model_1 = tf.keras.models.load_model(\"save_model_3\")\n",
        "# loaded_model_1.evaluate(test_gen)"
      ],
      "execution_count": null,
      "outputs": []
    },
    {
      "cell_type": "code",
      "metadata": {
        "id": "q2WVc3UhZ4dC"
      },
      "source": [],
      "execution_count": null,
      "outputs": []
    }
  ]
}